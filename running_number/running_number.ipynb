{
 "cells": [
  {
   "cell_type": "code",
   "execution_count": null,
   "metadata": {},
   "outputs": [],
   "source": [
    "# %pip install PyPDF2\n",
    "# %pip install reportlab\n",
    "# %pip install tqdm"
   ]
  },
  {
   "cell_type": "code",
   "execution_count": null,
   "metadata": {},
   "outputs": [],
   "source": [
    "from PyPDF2 import PdfReader, PdfWriter, PageObject\n",
    "from reportlab.pdfgen import canvas\n",
    "import io\n",
    "from tqdm import tqdm\n",
    "import random\n",
    "import string"
   ]
  },
  {
   "cell_type": "code",
   "execution_count": null,
   "metadata": {},
   "outputs": [
    {
     "name": "stdout",
     "output_type": "stream",
     "text": [
      "87517\n"
     ]
    }
   ],
   "source": [
    "# 定義可能的字符\n",
    "characters = \"123456789\"# + string.ascii_lowercase #a~z\n",
    "\n",
    "#學生人數\n",
    "student_count = 40\n",
    "\n",
    "# 生成 student_count 個唯一的亂碼\n",
    "def generate_unique_codes(count, length):\n",
    "    codes = set()\n",
    "    while len(codes) < count:\n",
    "        code = ''.join(random.choices(characters, k=length))\n",
    "        codes.add(code)\n",
    "    return list(codes)\n",
    "\n",
    "# 呼叫函數\n",
    "unique_codes = generate_unique_codes(student_count, 5)\n",
    "print(unique_codes[0])"
   ]
  },
  {
   "cell_type": "code",
   "execution_count": null,
   "metadata": {},
   "outputs": [
    {
     "name": "stderr",
     "output_type": "stream",
     "text": [
      "Processing:: 100%|██████████| 40/40 [00:06<00:00,  6.07it/s]\n"
     ]
    },
    {
     "name": "stdout",
     "output_type": "stream",
     "text": [
      "修改完成，文件已儲存至：D:\\Download\\merged_file.pdf\n"
     ]
    }
   ],
   "source": [
    "#pdf\n",
    "writer = PdfWriter()\n",
    "\n",
    "# 原 PDF(考卷)\n",
    "input_pdf_path = r\"D:\\Download\\temp2.pdf\"\n",
    "reader = PdfReader(input_pdf_path)\n",
    "first_page = reader.pages[0]\n",
    "\n",
    "# 獲取頁面尺寸\n",
    "width = float(first_page.mediabox.width)\n",
    "height = float(first_page.mediabox.height)\n",
    "custom_pagesize=(width, height)\n",
    "\n",
    "# 合併後的 PDF(產生亂碼)\n",
    "output_pdf_path = r\"D:\\Download\\merged_file.pdf\"\n",
    "\n",
    "for random_code in tqdm(unique_codes,desc=\"Processing:\"):\n",
    "\n",
    "    # 創建包含亂碼的透明 PDF\n",
    "    packet = io.BytesIO()\n",
    "    can = canvas.Canvas(packet, pagesize=custom_pagesize)\n",
    "    can.setFont(\"Times-Bold\", 14)  # 字體及大小\n",
    "    x,y=25, 800\n",
    "    can.drawString(x, y, random_code)\n",
    "\n",
    "    # 繪製底線（與文字寬度匹配）\n",
    "    text_width = can.stringWidth(random_code, \"Times-Roman\", 14)\n",
    "    line_y = y - 2  # 底線的位置（略低於文字）\n",
    "    can.line(x, line_y, x + text_width, line_y)\n",
    "\n",
    "    can.save()\n",
    "    packet.seek(0)\n",
    "\n",
    "    # 讀取含亂碼的透明 PDF\n",
    "    overlay_pdf = PdfReader(packet)\n",
    "    overlay_page = overlay_pdf.pages[0]\n",
    "\n",
    "    # 將亂碼覆蓋到第一頁\n",
    "    for i, page in enumerate(reader.pages):\n",
    "        if i == 0:  # 僅在第一頁添加亂碼\n",
    "            # 合併頁面\n",
    "            page_copy = PageObject.create_blank_page(width=page.mediabox.width, height=page.mediabox.height)\n",
    "            page_copy.merge_page(page)\n",
    "            page_copy.merge_page(overlay_page)\n",
    "            writer.add_page(page_copy)\n",
    "        else:\n",
    "            # 直接添加其他頁面\n",
    "            writer.add_page(page)\n",
    "     \n",
    "# 保存修改後的 PDF\n",
    "with open(output_pdf_path, \"wb\") as output_pdf:\n",
    "    writer.write(output_pdf)\n",
    "\n",
    "print(f\"修改完成，文件已儲存至：{output_pdf_path}\")\n"
   ]
  },
  {
   "cell_type": "code",
   "execution_count": null,
   "metadata": {},
   "outputs": [],
   "source": []
  }
 ],
 "metadata": {
  "kernelspec": {
   "display_name": "py39",
   "language": "python",
   "name": "python3"
  },
  "language_info": {
   "codemirror_mode": {
    "name": "ipython",
    "version": 3
   },
   "file_extension": ".py",
   "mimetype": "text/x-python",
   "name": "python",
   "nbconvert_exporter": "python",
   "pygments_lexer": "ipython3",
   "version": "3.9.16"
  }
 },
 "nbformat": 4,
 "nbformat_minor": 2
}
