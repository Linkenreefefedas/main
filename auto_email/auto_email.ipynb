{
 "cells": [
  {
   "cell_type": "markdown",
   "metadata": {},
   "source": [
    "### Step1\n",
    "##### #Follow the website [link](https://www.learncodewithmike.com/2020/02/python-email.html).\n",
    "##### #Search \"應用程式密碼\" in 步驟4 of the website.\n",
    "##### #Get your own password"
   ]
  },
  {
   "cell_type": "code",
   "execution_count": null,
   "metadata": {},
   "outputs": [],
   "source": [
    "# %pip install tqdm\n",
    "# %pip install pandas\n",
    "# %pip install openpyxl"
   ]
  },
  {
   "cell_type": "code",
   "execution_count": 53,
   "metadata": {},
   "outputs": [],
   "source": [
    "import smtplib\n",
    "from email.mime.multipart import MIMEMultipart\n",
    "from email.mime.text import MIMEText\n",
    "import pandas as pd\n",
    "from tqdm import tqdm\n",
    "from openpyxl import load_workbook"
   ]
  },
  {
   "cell_type": "markdown",
   "metadata": {},
   "source": [
    "### Step2 (here)\n",
    "##### #Fill in your own information.\n",
    "##### #Change the path of the excel.\n",
    "##### #Modify the content if needed."
   ]
  },
  {
   "cell_type": "code",
   "execution_count": null,
   "metadata": {},
   "outputs": [],
   "source": [
    "#原始數據\n",
    "#學號\t姓名\t1\t2\t3\t4\t5\t6\t7\t8\t9\t10\t總分\n",
    "excel_path=r\"D:\\Download\\grade_temp.xlsx\"#here\n",
    "\n",
    "data = pd.read_excel(excel_path)\n",
    "data"
   ]
  },
  {
   "cell_type": "code",
   "execution_count": null,
   "metadata": {},
   "outputs": [],
   "source": [
    "num=len(data)\n",
    "print(num)\n",
    "# 取得第一筆資料\n",
    "first_row = data.iloc[0]\n",
    "# 將第一筆資料轉為字典格式\n",
    "first_row_data = first_row.to_dict()\n",
    "print(first_row_data)"
   ]
  },
  {
   "cell_type": "code",
   "execution_count": 48,
   "metadata": {},
   "outputs": [],
   "source": [
    "#讀取附註\n",
    "wb = load_workbook(excel_path)\n",
    "\n",
    "# 選擇工作表\n",
    "sheet = wb.active\n",
    "\n",
    "comment_dict={}\n",
    "for i in range(2,num+2):\n",
    "    student_id=str(sheet[f'A{i}'].value)\n",
    "    for row in sheet[f'C{i}':f'L{i}']:\n",
    "        comment_list=[]\n",
    "        for cell in row:\n",
    "            # 檢查是否有附註\n",
    "            if cell.comment:\n",
    "                comment_list.append(cell.comment.text.split(':')[1][1:])\n",
    "            else:\n",
    "                comment_list.append(\"\")\n",
    "        comment_dict[student_id]=comment_list"
   ]
  },
  {
   "cell_type": "code",
   "execution_count": 49,
   "metadata": {},
   "outputs": [
    {
     "data": {
      "text/plain": [
       "['', '', '', '算式間多空一格', '上傳成第四題', '', '', '', 'output最後一行無空行', '']"
      ]
     },
     "execution_count": 49,
     "metadata": {},
     "output_type": "execute_result"
    }
   ],
   "source": [
    "comment_dict['411123050']"
   ]
  },
  {
   "cell_type": "code",
   "execution_count": null,
   "metadata": {},
   "outputs": [],
   "source": [
    "# 配置發件人\n",
    "sender_email = \"here@gms.ndhu.edu.tw\"  #your gmail\n",
    "sender_password = \"here\"  # password without space"
   ]
  },
  {
   "cell_type": "code",
   "execution_count": null,
   "metadata": {},
   "outputs": [],
   "source": [
    "for i in  tqdm(range(num), desc=\"Processing\"):\n",
    "    info=data.iloc[i]\n",
    "    info=info.to_dict()\n",
    "    id=str(info[\"學號\"])\n",
    "    recipient_email=id+\"@gms.ndhu.edu.tw\"\n",
    "    name=str(info[\"姓名\"])\n",
    "    numbers=[]\n",
    "    numbers = [str(info[index]) for index in range(1, 11)]\n",
    "    grade=str(info[\"總分\"])\n",
    "    \n",
    "    # 創建郵件對象\n",
    "    msg = MIMEMultipart()\n",
    "    msg['From'] = sender_email\n",
    "    msg['To'] = recipient_email\n",
    "    msg['Subject'] = \"here\"\n",
    "\n",
    "    # HTML 內容\n",
    "    html_content = \"\"\"\n",
    "    <html>\n",
    "    <head>\n",
    "        <style>\n",
    "            h1 {\n",
    "                font-size: 16px;  /* 增大標題文字大小 */\n",
    "                font-weight: bold;\n",
    "            }\n",
    "\n",
    "            table {\n",
    "                border-collapse: collapse;\n",
    "                width: 100%;\n",
    "            }\n",
    "            th, td {\n",
    "                border: 1px solid black;\n",
    "                padding: 10px;\n",
    "                text-align: center;\n",
    "            }\n",
    "            th {\n",
    "                background-color: #f2f2f2;\n",
    "            }\n",
    "\n",
    "            h3 {\n",
    "                font-size: 20px;  /* 增大標題文字大小 */\n",
    "                font-weight: bold;\n",
    "            }\n",
    "\n",
    "            ul {\n",
    "                font-size: 16px;  /* 增大列表文字大小 */\n",
    "            }        \n",
    "        </style>\n",
    "    </head>\n",
    "    <body>\n",
    "        <h2>成績單</h2>\n",
    "        <table>\n",
    "            <tr>\n",
    "                <th>學號</th>\n",
    "                <th>姓名</th>\n",
    "                <th>1</th>\n",
    "                <th>2</th>\n",
    "                <th>3</th>\n",
    "                <th>4</th>\n",
    "                <th>5</th>\n",
    "                <th>6</th>\n",
    "                <th>7</th>\n",
    "                <th>8</th>\n",
    "                <th>9</th>\n",
    "                <th>10</th>\n",
    "                <th>總分</th>\n",
    "            </tr>\n",
    "    \"\"\"+f\"\"\"\n",
    "            <tr>\n",
    "                <td>{id}</td>\n",
    "                <td>{name}</td>\n",
    "                <td>{numbers[0]}</td>\n",
    "                <td>{numbers[1]}</td>\n",
    "                <td>{numbers[2]}</td>\n",
    "                <td>{numbers[3]}</td>\n",
    "                <td>{numbers[4]}</td>\n",
    "                <td>{numbers[5]}</td>\n",
    "                <td>{numbers[6]}</td>\n",
    "                <td>{numbers[7]}</td>\n",
    "                <td>{numbers[8]}</td>\n",
    "                <td>{numbers[9]}</td>\n",
    "                <td>{grade}</td>\n",
    "            </tr>\n",
    "    \"\"\"+f\"\"\"</table>\n",
    "        <h3>評語</h3>\n",
    "        <ul>\n",
    "            <li>第1題: {comment_dict[id][0]}</li>\n",
    "            <li>第2題: {comment_dict[id][1]}</li>\n",
    "            <li>第3題: {comment_dict[id][2]}</li>\n",
    "            <li>第4題: {comment_dict[id][3]}</li>\n",
    "            <li>第5題: {comment_dict[id][4]}</li>\n",
    "            <li>第6題: {comment_dict[id][5]}</li>\n",
    "            <li>第7題: {comment_dict[id][6]}</li>\n",
    "            <li>第8題: {comment_dict[id][7]}</li>\n",
    "            <li>第9題: {comment_dict[id][8]}</li>\n",
    "            <li>第10題: {comment_dict[id][9]}</li>\n",
    "        </ul>\n",
    "    </body>\n",
    "    </html>\n",
    "    \"\"\"\n",
    "    \n",
    "    # 添加 HTML 內容到郵件\n",
    "    msg.attach(MIMEText(html_content, 'html'))\n",
    "\n",
    "    # 發送郵件\n",
    "    try:\n",
    "        # 連接 SMTP 服務器\n",
    "        server = smtplib.SMTP('smtp.gmail.com', 587)\n",
    "        server.starttls()  # 開啟安全傳輸模式\n",
    "        server.login(sender_email, sender_password)\n",
    "        server.send_message(msg)  # 發送郵件\n",
    "        #print(f\"{id} 郵件發送成功！\")\n",
    "    except Exception as e:\n",
    "        print(f\"{id} 發送失敗：{e}\")\n",
    "    finally:\n",
    "        server.quit()"
   ]
  },
  {
   "cell_type": "code",
   "execution_count": null,
   "metadata": {},
   "outputs": [],
   "source": []
  }
 ],
 "metadata": {
  "kernelspec": {
   "display_name": "py39",
   "language": "python",
   "name": "python3"
  },
  "language_info": {
   "codemirror_mode": {
    "name": "ipython",
    "version": 3
   },
   "file_extension": ".py",
   "mimetype": "text/x-python",
   "name": "python",
   "nbconvert_exporter": "python",
   "pygments_lexer": "ipython3",
   "version": "3.9.16"
  }
 },
 "nbformat": 4,
 "nbformat_minor": 2
}
